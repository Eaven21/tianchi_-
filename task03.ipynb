{
 "cells": [
  {
   "cell_type": "markdown",
   "metadata": {},
   "source": [
    "FCN网络由卷积层、池化层、反卷积层以及分类层组成\n",
    "各层的作用：卷积提取特征，池化防止过拟合，反卷积将提取的特征图转换到与原图像相同的像素大小\n",
    "\n",
    "SegNet网络跟FCN的区别不大，加入了上采样方法，具体是通过经过池化的索引，那之后修改网络可以对上采样技术进行改进，比如插值法的，元学习法的。\n",
    "\n",
    "Unet该网络模型主要由一个收缩路径和一个对称扩张路径组成，收缩路径用来 获得上下文信息，对称扩张路径用来精确定位分割边界。"
   ]
  },
  {
   "cell_type": "markdown",
   "metadata": {
    "code_folding": [
     0
    ]
   },
   "source": [
    "GAN对抗生成网络，对抗性损失来微调分割网络"
   ]
  },
  {
   "cell_type": "code",
   "execution_count": 1,
   "metadata": {},
   "outputs": [
    {
     "ename": "SyntaxError",
     "evalue": "invalid syntax (<ipython-input-1-8cbaa9363e57>, line 1)",
     "output_type": "error",
     "traceback": [
      "\u001b[0;36m  File \u001b[0;32m\"<ipython-input-1-8cbaa9363e57>\"\u001b[0;36m, line \u001b[0;32m1\u001b[0m\n\u001b[0;31m    import segmentation_models_pytorch as smp model = smp.Unet(\u001b[0m\n\u001b[0m                                              ^\u001b[0m\n\u001b[0;31mSyntaxError\u001b[0m\u001b[0;31m:\u001b[0m invalid syntax\n"
     ]
    }
   ],
   "source": [
    "import segmentation_models_pytorch as smp model = smp.Unet(\n",
    "    encoder_name=\"resnet34\", efficientnet-b7\n",
    "encoder_weights=\"imagenet\", encoder initialization\n",
    "in_channels=1,\n",
    "images, 3 for RGB, etc.)\n",
    "classes=3,\n",
    "     in your dataset)\n",
    "    )"
   ]
  },
  {
   "cell_type": "code",
   "execution_count": null,
   "metadata": {},
   "outputs": [],
   "source": []
  }
 ],
 "metadata": {
  "kernelspec": {
   "display_name": "Python 3",
   "language": "python",
   "name": "python3"
  },
  "language_info": {
   "codemirror_mode": {
    "name": "ipython",
    "version": 3
   },
   "file_extension": ".py",
   "mimetype": "text/x-python",
   "name": "python",
   "nbconvert_exporter": "python",
   "pygments_lexer": "ipython3",
   "version": "3.8.3"
  }
 },
 "nbformat": 4,
 "nbformat_minor": 4
}
