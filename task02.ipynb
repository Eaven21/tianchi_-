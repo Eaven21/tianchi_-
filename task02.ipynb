{
 "cells": [
  {
   "cell_type": "code",
   "execution_count": 2,
   "metadata": {
    "uuid": "a12628b9-ef93-4424-bf9d-ca51d89ede2d"
   },
   "outputs": [],
   "source": [
    "import cv2\n",
    "import albumentations as A\n",
    "import pandas as pd"
   ]
  },
  {
   "cell_type": "code",
   "execution_count": null,
   "metadata": {
    "uuid": "2911aa41-e050-462a-b455-ab28df0f2d2e"
   },
   "outputs": [],
   "source": [
    "import torch"
   ]
  },
  {
   "cell_type": "code",
   "execution_count": 11,
   "metadata": {
    "uuid": "057127cb-189d-4bfc-88ff-00fb3f041b29"
   },
   "outputs": [],
   "source": [
    "path = 'download/train_mask.csv'"
   ]
  },
  {
   "cell_type": "code",
   "execution_count": null,
   "metadata": {
    "uuid": "1c3b23dc-a587-4aff-936f-8ddc16e7a3b1"
   },
   "outputs": [],
   "source": [
    "df = pd.read_csv(path)"
   ]
  },
  {
   "cell_type": "code",
   "execution_count": null,
   "metadata": {
    "uuid": "ab8f52c6-bcbd-4879-b44e-66dea65f0986"
   },
   "outputs": [],
   "source": [
    "img = cv2.imread(train_mask['name'].iloc[0])\n",
    "mask = rle_decode(train_mask['mask'].iloc[0])\n",
    "\n",
    "plt.figure(figsize=(16, 8))\n",
    "plt.subplot(1, 2, 1)\n",
    "plt.imshow(img)\n",
    "\n",
    "plt.subplot(1, 2, 2)\n",
    "plt.imshow(mask)"
   ]
  },
  {
   "cell_type": "code",
   "execution_count": null,
   "metadata": {
    "uuid": "caef9242-516c-4779-b244-a1cfa86d0964"
   },
   "outputs": [],
   "source": [
    "# 垂直翻转\n",
    "plt.figure(figsize=(16, 8))\n",
    "plt.subplot(1, 2, 1)\n",
    "plt.imshow(cv2.flip(img, 0))   #水平翻转将0改为1\n",
    "\n",
    "plt.subplot(1, 2, 2)\n",
    "plt.imshow(cv2.flip(mask, 0))"
   ]
  },
  {
   "cell_type": "code",
   "execution_count": null,
   "metadata": {
    "uuid": "932c951a-968e-4f80-9c06-0ede2f7410ed"
   },
   "outputs": [],
   "source": [
    "# 随机裁剪\n",
    "x, y = np.random.randint(0, 256), np.random.randint(0, 256)\n",
    "\n",
    "plt.figure(figsize=(16, 8))\n",
    "plt.subplot(1, 2, 1)\n",
    "plt.imshow(img[x:x+256, y:y+256])\n",
    "\n",
    "plt.subplot(1, 2, 2)\n",
    "plt.imshow(mask[x:x+256, y:y+256])"
   ]
  },
  {
   "cell_type": "code",
   "execution_count": null,
   "metadata": {
    "uuid": "0fd617b9-4ed6-4d74-a4ba-e1089466b685"
   },
   "outputs": [],
   "source": [
    "#旋转\n",
    "rows,cols = img.shape\n",
    "M = cv.getRotationMatrix2D(((cols-1)/2.0,(rows-1)/2.0),90,1)\n",
    "dst = cv.warpAffine(img,M,(cols,rows))\n",
    "cv.imshow('img',dst)\n",
    "cv.waitKey(0)\n",
    "cv.destroyAllWindows()"
   ]
  },
  {
   "cell_type": "code",
   "execution_count": null,
   "metadata": {
    "uuid": "99ea01e4-7e8c-46b9-a418-b342d1512d6b"
   },
   "outputs": [],
   "source": [
    "#加噪\n",
    "noise = np.random.normal(mean, var ** 0.5, image.shape)\n",
    "out_img = noise + img\n",
    "out_mask = noise + mask"
   ]
  },
  {
   "cell_type": "code",
   "execution_count": null,
   "metadata": {
    "uuid": "bfdf26da-e9e5-425b-b2d7-91757ae7df03"
   },
   "outputs": [],
   "source": [
    "# 水平翻转\n",
    "augments = A.HorizontalFlip(p=1)(image=img, mask=mask)\n",
    "img_aug, mask_aug = augments['image'], augments['mask']\n",
    "\n",
    "# 随机裁剪\n",
    "augments = A.RandomCrop(p=1, height=256, width=256)(image=img, mask=mask)\n",
    "img_aug, mask_aug = augments['image'], augments['mask']\n",
    "\n",
    "# 旋转\n",
    "augments = A.ShiftScaleRotate(p=1)(image=img, mask=mask)\n",
    "img_aug, mask_aug = augments['image'], augments['mask']"
   ]
  },
  {
   "cell_type": "code",
   "execution_count": null,
   "metadata": {
    "uuid": "6def430b-7c22-4b44-bdc8-126683d2e545"
   },
   "outputs": [],
   "source": [
    "import torch.utils.data as D\n",
    "class TianChiDataset(D.Dataset):\n",
    "    def __init__(self, paths, rles, transform):\n",
    "        self.paths = paths\n",
    "        self.rles = rles\n",
    "        self.transform = transform\n",
    "        self.len = len(paths)\n",
    "\n",
    "    def __getitem__(self, index):\n",
    "        img = cv2.imread(self.paths[index])\n",
    "        mask = rle_decode(self.rles[index])\n",
    "        augments = self.transform(image=img, mask=mask)\n",
    "        return self.as_tensor(augments['image']), augments['mask'][None]\n",
    "   \n",
    "    def __len__(self):\n",
    "        return self.len"
   ]
  },
  {
   "cell_type": "code",
   "execution_count": null,
   "metadata": {
    "uuid": "0ad4bce7-4334-4624-8281-6e4db5913f76"
   },
   "outputs": [],
   "source": [
    "trfm = A.Compose([\n",
    "    A.Resize(IMAGE_SIZE, IMAGE_SIZE),\n",
    "    A.HorizontalFlip(p=0.5),\n",
    "    A.VerticalFlip(p=0.5),\n",
    "    A.RandomRotate90(),\n",
    "])\n",
    "\n",
    "dataset = TianChiDataset(\n",
    "    train_mask['name'].values,\n",
    "    train_mask['mask'].fillna('').values,\n",
    "    trfm\n",
    ")"
   ]
  },
  {
   "cell_type": "code",
   "execution_count": null,
   "metadata": {
    "uuid": "56cfece5-8858-4ce8-bcc9-027a36d0ddf4"
   },
   "outputs": [],
   "source": [
    "##使用albumentations其他的的操作完成扩增操作；\n",
    "\n",
    "trfm = A.Compose([\n",
    "    A.RandomCrop(width=256, height=256),\n",
    "    A.HorizontalFlip(p=0.5),\n",
    "    A.VerticalFlip(p=0.5),\n",
    "    A.RandomBrightnessContrast(p=0.2),\n",
    "])\n",
    "\n",
    "dataset = TianChiDataset(\n",
    "    train_mask['name'].values,\n",
    "    train_mask['mask'].fillna('').values,\n",
    "    trfm\n",
    ")"
   ]
  },
  {
   "cell_type": "code",
   "execution_count": null,
   "metadata": {
    "uuid": "5af5b206-73cf-4672-b9ad-b020576b0fa5"
   },
   "outputs": [],
   "source": [
    "loader = D.DataLoader(\n",
    "    dataset, batch_size=10, shuffle=True, num_workers=0)"
   ]
  },
  {
   "cell_type": "code",
   "execution_count": null,
   "metadata": {
    "uuid": "f6b17ecb-dedc-40f5-b27b-65bf2b94b06a"
   },
   "outputs": [],
   "source": []
  }
 ],
 "metadata": {
  "kernelspec": {
   "display_name": "Python 3",
   "language": "python",
   "name": "python3"
  },
  "language_info": {
   "codemirror_mode": {
    "name": "ipython",
    "version": 3
   },
   "file_extension": ".py",
   "mimetype": "text/x-python",
   "name": "python",
   "nbconvert_exporter": "python",
   "pygments_lexer": "ipython3",
   "version": "3.6.4"
  }
 },
 "nbformat": 4,
 "nbformat_minor": 4
}
